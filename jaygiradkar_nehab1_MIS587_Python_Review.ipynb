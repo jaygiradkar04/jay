{
  "cells": [
    {
      "cell_type": "markdown",
      "metadata": {
        "id": "view-in-github",
        "colab_type": "text"
      },
      "source": [
        "<a href=\"https://colab.research.google.com/github/jaygiradkar04/jay/blob/main/jaygiradkar_nehab1_MIS587_Python_Review.ipynb\" target=\"_parent\"><img src=\"https://colab.research.google.com/assets/colab-badge.svg\" alt=\"Open In Colab\"/></a>"
      ]
    },
    {
      "cell_type": "markdown",
      "metadata": {
        "id": "I8woMXiB1ia8"
      },
      "source": [
        "# Introduction to Python\n",
        "\n",
        "Python is a high-level programming language with extensive libraries available to perform various data analysis tasks.\n",
        "The following tutorial contains examples of using various data types, functions, and library modules available in the standard Python library. Read the step-by-step instructions below carefully. To execute the code, click on each cell below and press the SHIFT-ENTER keys simultaneously.\n",
        "\n",
        "We begin with some basic information about Python:\n",
        "1. Python is an interpreted language, unlike other high-level programming languages such as C or C++. You only need to submit your Python program to an interpreter for execution, without having to explicitly compile and link the code first.\n",
        "\n",
        "2. Python is a dynamically typed language, which means variable names are bound to their respective types during execution time. You do not have to explicitly declare the type of a variable before using it in the code unlike Java, C++, and other statically-typed languages.\n",
        "\n",
        "3. Instead of using braces '{' and '}', Python uses whitespace indentation to group together related statements in loops or other control-flow statements.\n",
        "\n",
        "4. Python uses the hash character ('#') to precede single-line comments. Triple-quoted strings (''') are commonly used to denote multi-line comments (even though it is not part of the standard Python language) or docstring of functions.\n",
        "\n",
        "5. Python uses pass by reference (instead of pass by value) when assigning a variable to another (e.g., a = b) or when passing an object as input argument to a function. Thus, any modification to the assigned variable or to the input argument within the function will affect the original object.  \n",
        "\n",
        "6. Python uses `None` to denote a null object (e.g., a = None). You do not have to terminate each statement with a terminating character (such as a semicolon) unlike other languages.\n",
        "\n",
        "7. You may access the variables or functions defined in another Python program file using the `import` command. This is analogous to the `import` command in Java or the `#include` command in C or C++.\n",
        "\n",
        "*Tutorial Credit*: based on material developed by Professor Yong Ge for MIS587"
      ]
    },
    {
      "cell_type": "markdown",
      "metadata": {
        "id": "eXTIVITR1ia-"
      },
      "source": [
        "## 1 Elementary Data Types\n",
        "\n",
        "The standard Python library provides support for various elementary data types, including including integers, booleans, floating points, and strings. A summary of the data types is shown in the table below.\n",
        "\n",
        "| &nbsp;  |      Data Type    |   Example   |\n",
        "|:--------|:-----------------:|:------------|\n",
        "|Number   | Integer           | x = 4       |\n",
        "| &nbsp;  | Floating point    | x = 3.142   |\n",
        "| &nbsp;  | Boolean           | x = True    |\n",
        "| Text    | String            | x = \"this\" or x = 'this' |\n",
        "| Complex Number | Complex (add \"j\" after number to indicate it is complex)  | x = 1+2j |"
      ]
    },
    {
      "cell_type": "code",
      "execution_count": null,
      "metadata": {
        "id": "ijB6DB6P1ia-"
      },
      "outputs": [],
      "source": [
        "## Enter your names (comma separated) in the comment line below.\n",
        "## Name: Jay Giradkar, Neha Bharambe\n",
        "\n",
        "## Also rename the File (replace \"NetIDs\" with the NetIDs of the participants)\n",
        "#\n",
        "\n",
        "\n",
        "x = 4              # integer\n",
        "print(x, type(x))\n",
        "\n",
        "y = True           # boolean (True, False)\n",
        "print(y, type(y))\n",
        "\n",
        "z = 3.7            # floating point\n",
        "print(z, type(z))\n",
        "\n",
        "s = \"This is a string\"    # string\n",
        "print(s, type(s))\n",
        "\n",
        "v = 1+2j\n",
        "print(v, type(v))"
      ]
    },
    {
      "cell_type": "markdown",
      "metadata": {
        "id": "2BbUNFR61ia_"
      },
      "source": [
        "The following are some of the arithmetic operations available for manipulating integers and floating point numbers"
      ]
    },
    {
      "cell_type": "code",
      "execution_count": null,
      "metadata": {
        "id": "fRtfVIwk1ibA"
      },
      "outputs": [],
      "source": [
        "x = 4            # integer\n",
        "x1 = x + 4       # addition\n",
        "x2 = x * 3       # multiplication\n",
        "x += 2           # equivalent to x = x + 2\n",
        "x3 = x\n",
        "x *= 3           # equivalent to x = x * 3\n",
        "x4 = x\n",
        "x5 = x % 4       # modulo (remainder) operator\n",
        "\n",
        "z = 3.7          # floating point number\n",
        "z1 = z - 2       # subtraction\n",
        "z2 = z / 3       # division\n",
        "z3 = z // 3      # integer division\n",
        "z4 = z ** 2      # square of z\n",
        "z5 = z4 ** 0.5   # square root\n",
        "z6 = pow(z,2)    # equivalent to square of z\n",
        "z7 = round(z)    # rounding z to its nearest integer\n",
        "z8 = int(z)      # type casting float to int\n",
        "z9 = float(x)    # type casting int to float\n",
        "\n",
        "print(x,x1,x2,x3,x4,x5)\n",
        "print(z,z1,z2,z3,z4)\n",
        "\n",
        "##  Print the following: z5, z6, z8, z9\n"
      ]
    },
    {
      "cell_type": "markdown",
      "metadata": {
        "id": "i9jbOqeb1ibC"
      },
      "source": [
        "The following are some of the functions provided by the math module for integers and floating point numbers"
      ]
    },
    {
      "cell_type": "code",
      "execution_count": null,
      "metadata": {
        "id": "9AnhBOYF1ibC",
        "scrolled": true
      },
      "outputs": [],
      "source": [
        "import math              # https://docs.python.org/3/library/math.html\n",
        "\n",
        "x = 4\n",
        "print(math.sqrt(x))      # sqrt(4) = 2\n",
        "print(math.pow(x,2))     # 4**2 = 16\n",
        "print(math.exp(x))       # exp(4) = 54.6\n",
        "print(math.log(x,2))     # log based 2  (default is natural logarithm)\n",
        "print(math.fabs(-4))     # absolute value\n",
        "print(math.factorial(x)) # 4! = 4 x 3 x 2 x 1 = 24\n",
        "\n",
        "z = 0.2\n",
        "print(math.ceil(z))      # ceiling function\n",
        "print(math.floor(z))     # floor function\n",
        "print(math.trunc(z))     # truncate function\n",
        "\n",
        "z = 3*math.pi            # math.pi = 3.141592653589793\n",
        "print(math.sin(z))       # sine function\n",
        "print(math.tanh(z))      # arctan function\n",
        "\n",
        "x = math.nan             # not a number\n",
        "print(math.isnan(x))\n",
        "\n",
        "x = math.inf             # assign infinity to x\n",
        "\n",
        "## print the result of checking if \"x\" is infinity\n"
      ]
    },
    {
      "cell_type": "markdown",
      "metadata": {
        "collapsed": true,
        "id": "tUZHO5JV1ibD"
      },
      "source": [
        "The following are some of the logical operations available for booleans"
      ]
    },
    {
      "cell_type": "code",
      "execution_count": null,
      "metadata": {
        "id": "J0s7wL4Y1ibE"
      },
      "outputs": [],
      "source": [
        "y1 = True\n",
        "y2 = False\n",
        "\n",
        "print(y1 and y2)       # logical AND\n",
        "print(y1 or y2)        # logical OR\n",
        "\n",
        "## logical NOT: print the result of taking y1 and the negation of y2 (simultaneously)\n"
      ]
    },
    {
      "cell_type": "markdown",
      "metadata": {
        "id": "TUdkORDX1ibE"
      },
      "source": [
        "The following are some of the operations and functions for manipulating strings"
      ]
    },
    {
      "cell_type": "code",
      "execution_count": null,
      "metadata": {
        "id": "Z78X08Ly1ibF"
      },
      "outputs": [],
      "source": [
        "s1 = \"This\"\n",
        "\n",
        "print(s1[1:])                    # print last three characters\n",
        "print(len(s1))                               # get the string length\n",
        "print(\"Length of string is \" + str(len(s1))) # type casting int to str\n",
        "print(s1.upper())                            # convert to upper case\n",
        "print(s1.lower())                            # convert to lower case\n",
        "\n",
        "s2 = \"This is a string\"\n",
        "words = s2.split(' ')             # split the string into words\n",
        "print(words[0])\n",
        "print(s2.replace('a','another'))  # replace \"a\" with \"another\"\n",
        "print(s2.replace('is','at'))      # replace \"is\" with \"at\"\n",
        "print(s2.find(\"a\"))               # find the position of \"a\" in s2\n",
        "print(s1 in s2)                   # check if s1 is a substring of s2\n",
        "\n",
        "print(s1 == 'This')               # equality comparison\n",
        "print(s1 < 'That')                # inequality comparison\n",
        "print(s2 + \" too\")                # string concatenation\n",
        "\n",
        "## Print the result of replicating the string s1 3 times (with a space in between each)\n",
        "#   The result should look like: This This This\n"
      ]
    },
    {
      "cell_type": "markdown",
      "metadata": {
        "id": "emIe7YTt1ibG"
      },
      "source": [
        "## 2 Compound Data Types\n",
        "\n",
        "The following examples show how to create and manipulate a list object"
      ]
    },
    {
      "cell_type": "code",
      "execution_count": null,
      "metadata": {
        "id": "an6h16xg1ibG"
      },
      "outputs": [],
      "source": [
        "# https://docs.python.org/3/tutorial/introduction.html#lists\n",
        "# Lists are built into Python (while you need to import a library like NumPy for arrays)\n",
        "\n",
        "intlist = [1, 3, 5, 7, 9]\n",
        "print(type(intlist))\n",
        "print(intlist)\n",
        "intlist2 = list(range(0,10,2))   # range[startvalue, endvalue, stepsize]\n",
        "print(intlist2)\n",
        "\n",
        "print(intlist[2])                # get the third element of the list\n",
        "print(intlist[:2])               # get the first two elements\n",
        "print(intlist[2:])               # get the elements of the list starting from the third element\n",
        "print(len(intlist))              # get the number of elements in the list\n",
        "print(sum(intlist))              # sums up elements of the list\n",
        "print(3 in intlist)              # check whether 3 in intlist\n",
        "\n",
        "intlist.append(11)               # insert 11 to end of the list\n",
        "print(intlist)\n",
        "intlist.extend([11, 13, 15])     # insert [13, 15] to end of the list\n",
        "print(intlist)\n",
        "del intlist[6]                   # remove the 6th item (i.e., 13)\n",
        "print(intlist)\n",
        "print(intlist.pop(5))            # pull-out/remove the 5th item, i.e., 11; without a parameter, it will remove last element of the list\n",
        "print(intlist.pop())             # without a parameter, it will pop() last element of the list\n",
        "print(intlist)\n",
        "print(intlist + [11,13,15])      # display the concatenation of two lists\n",
        "print(intlist * 3)               # replicate the list\n",
        "intlist.insert(2,4)              # insert item 4 at index 2\n",
        "print(intlist)\n",
        "intlist.sort(reverse=True)       # sort elements in descending order\n",
        "\n",
        "## Sort the results in ascending order and then print intlist\n"
      ]
    },
    {
      "cell_type": "code",
      "execution_count": null,
      "metadata": {
        "id": "spqIXGC71ibG"
      },
      "outputs": [],
      "source": [
        "mylist = ['this', 'is', 'a', 'list']\n",
        "print(mylist)\n",
        "print(type(mylist))\n",
        "\n",
        "print(\"list\" in mylist)          # check whether \"list\" is in mylist\n",
        "print(mylist[2])                 # show the 3rd element of the list\n",
        "print(mylist[:2])                # show the first two elements of the list\n",
        "print(mylist[2:])                # show the last two elements of the list\n",
        "mylist.append(\"too\")             # insert element to end of the list\n",
        "\n",
        "separator = \" \"\n",
        "print(separator.join(mylist))    # merge all elements of the list into a string\n",
        "\n",
        "mylist.remove(\"is\")              # remove element from list (removes the first matching value)\n",
        "print(mylist)\n",
        "\n",
        "# merge two lists into one\n",
        "mylist.extend(intlist)\n",
        "\n",
        "## Print the final result of mylist\n"
      ]
    },
    {
      "cell_type": "markdown",
      "metadata": {
        "id": "23dZCi5T1ibH"
      },
      "source": [
        "Implement/use list as stack:"
      ]
    },
    {
      "cell_type": "code",
      "execution_count": null,
      "metadata": {
        "id": "cnBTGYq21ibH"
      },
      "outputs": [],
      "source": [
        "# Note if we only append() / pop() the complexity is fast, i.e., O(1)\n",
        "#   on the other hand an insert into / delete from an arbitrary location is O(n)\n",
        "# While both pop() and del() remove elements, pop() also makes it available for use/display\n",
        "stack = [\"Austin\", \"Catalina\", \"Phoenix\"]\n",
        "stack.append(\"Wilbur\")\n",
        "stack.append(\"Wilma\")\n",
        "print(stack)\n",
        "print(stack.pop())\n",
        "print(stack)\n",
        "print(stack.pop())\n",
        "print(stack)"
      ]
    },
    {
      "cell_type": "markdown",
      "metadata": {
        "id": "Bp741K281ibH"
      },
      "source": [
        "Implement/use queue using deque and list:"
      ]
    },
    {
      "cell_type": "code",
      "execution_count": null,
      "metadata": {
        "id": "rS8euf-V1ibH"
      },
      "outputs": [],
      "source": [
        "# queue (unlike list) only allows appending at the end and popping from the front\n",
        "# deque = double-ended queue : allows appending/popping from either end; complexity O(1)\n",
        "#   technically it will let you del from a specific position, but complexity is O(n)\n",
        "#   However, you won't want to try an insert in the middle of a queue\n",
        "# Hence, use a queue if you only plan to append at the end (or dequeu: for beginning / end)\n",
        "\n",
        "from collections import deque\n",
        "queue1 = deque([\"Wilbur\", \"Wilma\", \"Alice\", \"Bob\"])\n",
        "print(type(intlist))  # check the type\n",
        "print(queue1)\n",
        "queue1.append(\"Kim\")\n",
        "print(queue1)\n",
        "queue1.append(\"Pat\")\n",
        "print(queue1)\n",
        "print(queue1.popleft())  # pop from the left, first in first out\n",
        "print(queue1.popleft())\n",
        "print(queue1)\n",
        "print(queue1.pop())  # pop from the right\n",
        "print(queue1[1])     # display 2nd item"
      ]
    },
    {
      "cell_type": "markdown",
      "metadata": {
        "id": "AwF84afj1ibH"
      },
      "source": [
        "The following examples show how to create and manipulate a tuple object. Unlike a list, a tuple object is immutable, i.e., they cannot be modified after creation."
      ]
    },
    {
      "cell_type": "code",
      "execution_count": null,
      "metadata": {
        "id": "FseRAQiO1ibH"
      },
      "outputs": [],
      "source": [
        "# https://docs.python.org/3/library/stdtypes.html#tuples\n",
        "\n",
        "MItuple = ('MI', 'Michigan', 'Lansing')\n",
        "CAtuple = ('CA', 'California', 'Sacramento')\n",
        "TXtuple = ('TX', 'Texas', 'Austin')\n",
        "\n",
        "print(MItuple)\n",
        "print(MItuple[1:])\n",
        "\n",
        "states = [MItuple, CAtuple, TXtuple]    # this will create a list of tuples\n",
        "print(states)\n",
        "print(states[2])\n",
        "print(states[2][:])\n",
        "print(states[2][1:])\n",
        "\n",
        "states.sort(key=lambda state: state[2])  # sort the states by their capital cities\n",
        "print(states)"
      ]
    },
    {
      "cell_type": "markdown",
      "metadata": {
        "id": "i8qfV78p1ibH"
      },
      "source": [
        "The following examples show how to create and manipulate a dictionary object"
      ]
    },
    {
      "cell_type": "code",
      "execution_count": null,
      "metadata": {
        "id": "K_LdDNJ-1ibI"
      },
      "outputs": [],
      "source": [
        "# https://docs.python.org/3/library/stdtypes.html#mapping-types-dict\n",
        "abbrev = dict()   # init an empty dict\n",
        "# abbrev = {}\n",
        "abbrev['MI'] = \"Michigan\"\n",
        "abbrev['MN'] = \"Minnesota\"\n",
        "abbrev['TX'] = \"Texas\"\n",
        "abbrev['CA'] = \"California\"\n",
        "\n",
        "print(abbrev)\n",
        "print(abbrev.keys())            # get the keys of the dictionary\n",
        "print(abbrev.values())          # get the values of the dictionary\n",
        "print(len(abbrev))              # get number of key-value pairs\n",
        "\n",
        "# abbrev = {'MI': 'Michigan', 'MN': 'Minnesota', 'TX': 'Texas', 'CA': 'California'}\n",
        "\n",
        "print(abbrev.get('MI'))\n",
        "print(abbrev['MI'])\n",
        "print(\"FL\" in abbrev)\n",
        "print(\"CA\" in abbrev)\n",
        "\n",
        "\n",
        "## remove (pop) Michigan / key-value: \"MI\", then print the dict\n"
      ]
    },
    {
      "cell_type": "code",
      "execution_count": null,
      "metadata": {
        "id": "-UG1P66q1ibI"
      },
      "outputs": [],
      "source": [
        "keys = ['apples', 'oranges', 'bananas', 'cherries']\n",
        "values = [3, 4, 2, 10]\n",
        "fruits = dict(zip(keys, values))\n",
        "print(fruits)\n",
        "print(sorted(fruits))     # sort keys of dictionary\n",
        "\n",
        "# iterate each key-value pair:\n",
        "for k,v in fruits.items():\n",
        "    print(k, v)\n",
        "\n",
        "print(sorted(fruits.items(), key=lambda e: e[0]))    # sort by key of dictionary\n",
        "print(sorted(fruits.items(), key=lambda e: e[1], reverse=True))    # sort by value of dictionary"
      ]
    },
    {
      "cell_type": "markdown",
      "metadata": {
        "id": "LY0Yc6aO1ibI"
      },
      "source": [
        "The following examples show how to create and manipulate a set object"
      ]
    },
    {
      "cell_type": "code",
      "execution_count": null,
      "metadata": {
        "id": "PW7zANFJ1ibI"
      },
      "outputs": [],
      "source": [
        "# https://docs.python.org/3/library/stdtypes.html#set\n",
        "\n",
        "fruits = set()\n",
        "# fruits = {}\n",
        "fruits.add(\"apple\")\n",
        "fruits.add(\"banana\")\n",
        "fruits.add('cherry')\n",
        "fruits.add('oranges')\n",
        "\n",
        "print(fruits)\n",
        "print(len(fruits))              # get number of elements\n",
        "fruits.remove('oranges')        # remove element\n",
        "\n",
        "# fruits = {\"apple\", \"banana\", \"cherry\"}\n",
        "\n",
        "print(\"apple\" in fruits)\n",
        "print(\"oranges\" in fruits)\n",
        "\n",
        "values = ['apples', 'oranges', 'bananas', 'cherries', 'oranges']\n",
        "fruits = set(values)\n",
        "print(fruits)\n",
        "print(sorted(fruits))     # sort elements\n",
        "\n",
        "## use a for loop to print the elements of a set (hint: look at the section: Control Flow statements)\n",
        "\n"
      ]
    },
    {
      "cell_type": "code",
      "execution_count": null,
      "metadata": {
        "id": "OC0m334j1ibJ"
      },
      "outputs": [],
      "source": [
        "# The union() method returns a new set with all items from both sets:\n",
        "set1 = {\"a\", \"b\" , \"c\"}\n",
        "set2 = {\"a\", 1, 2, 3}\n",
        "\n",
        "set3 = set1.union(set2)\n",
        "print(set3)\n",
        "\n",
        "## Find the overlap / intersection of two sets: set1 & set2, then print it\n",
        "\n"
      ]
    },
    {
      "cell_type": "markdown",
      "metadata": {
        "id": "4pqXjk7_1ibJ"
      },
      "source": [
        "## 3 Control Flow Statements\n",
        "\n",
        "Similar to other programming languages, the control flow statements in Python include if, for, and while statements. Examples on how to use these statements are shown below."
      ]
    },
    {
      "cell_type": "code",
      "execution_count": null,
      "metadata": {
        "id": "Vc2_LUF91ibJ"
      },
      "outputs": [],
      "source": [
        "# using if-else statement\n",
        "\n",
        "x = 10\n",
        "\n",
        "if x % 2 == 0:\n",
        "    print(\"x =\", x, \"is even\")\n",
        "else:\n",
        "    print(\"x =\", x, \"is odd\")\n",
        "\n",
        "if x > 0:\n",
        "    print(\"x =\", x, \"is positive\")\n",
        "elif x < 0:\n",
        "    print(\"x =\", x, \"is negative\")\n",
        "else:\n",
        "    print(\"x =\", x, \"is neither positive nor negative\")"
      ]
    },
    {
      "cell_type": "code",
      "execution_count": null,
      "metadata": {
        "id": "dSnxOI9Z1ibJ"
      },
      "outputs": [],
      "source": [
        "# using for loop with a list\n",
        "\n",
        "mylist = ['this', 'is', 'a', 'list']\n",
        "for word in mylist:\n",
        "    print(word)\n",
        "\n",
        "mylist2 = [len(word) for word in mylist]   # number of characters in each word\n",
        "print(mylist2)\n",
        "\n",
        "# using for loop with list of tuples\n",
        "\n",
        "states = [('MI', 'Michigan', 'Lansing'),('CA', 'California', 'Sacramento'),\n",
        "          ('TX', 'Texas', 'Austin')]\n",
        "\n",
        "sorted_capitals = [state[2] for state in states]\n",
        "sorted_capitals.sort()\n",
        "print(sorted_capitals)\n",
        "\n",
        "# using for loop with dictionary\n",
        "\n",
        "fruits = {'apples': 3, 'oranges': 4, 'bananas': 2, 'cherries': 10}\n",
        "fruitnames = [k for (k,v) in fruits.items()]\n",
        "print(fruitnames)"
      ]
    },
    {
      "cell_type": "code",
      "execution_count": null,
      "metadata": {
        "id": "3DmTqsHv1ibK"
      },
      "outputs": [],
      "source": [
        "# using while loop\n",
        "\n",
        "mylist = list(range(-10,10))\n",
        "print(mylist)\n",
        "\n",
        "i = 0\n",
        "while (mylist[i] < 0):\n",
        "    i = i + 1\n",
        "\n",
        "print(\"First non-negative number:\", mylist[i])\n"
      ]
    },
    {
      "cell_type": "markdown",
      "metadata": {
        "id": "CGvo_4u41ibL"
      },
      "source": [
        "Recursion for Fibonacci number"
      ]
    },
    {
      "cell_type": "code",
      "execution_count": null,
      "metadata": {
        "id": "pLDv-H0Z1ibL"
      },
      "outputs": [],
      "source": [
        "def fib(n):\n",
        "    if n==0:\n",
        "        return 0\n",
        "    elif n==1:\n",
        "        return 1\n",
        "    else:\n",
        "        return fib(n-1)+fib(n-2)\n",
        "\n",
        "print(fib(1))\n",
        "print(fib(2))\n",
        "print(fib(3))\n",
        "print(fib(4))\n",
        "print(fib(5))\n"
      ]
    },
    {
      "cell_type": "markdown",
      "metadata": {
        "id": "i2L62kfw1ibL"
      },
      "source": [
        "An iterative solution for Fibonacci number"
      ]
    },
    {
      "cell_type": "code",
      "execution_count": null,
      "metadata": {
        "id": "pHqzv9tl1ibL"
      },
      "outputs": [],
      "source": [
        "def fibi(n):\n",
        "    a=0\n",
        "    b=1\n",
        "    for i in range(n):\n",
        "        a,b=b,a+b\n",
        "    return a\n",
        "\n",
        "print(fibi(1))\n",
        "print(fibi(2))\n",
        "print(fibi(3))\n",
        "print(fibi(4))\n",
        "print(fibi(5))"
      ]
    },
    {
      "cell_type": "markdown",
      "metadata": {
        "id": "QL4MI9fw1ibL"
      },
      "source": [
        "Compare the running time between fibi and fib"
      ]
    },
    {
      "cell_type": "code",
      "execution_count": null,
      "metadata": {
        "id": "sqCNmVr11ibL"
      },
      "outputs": [],
      "source": [
        "import time\n",
        "start = time.time()\n",
        "print(fibi(30))\n",
        "end = time.time()\n",
        "print(\"time for fibi:\",end-start)"
      ]
    },
    {
      "cell_type": "code",
      "execution_count": null,
      "metadata": {
        "id": "pNDqstv81ibL"
      },
      "outputs": [],
      "source": [
        "# (similar to the above) Run the recursive version of the Fibonacci function, calculate the difference between the start and end time\n",
        "start = time.time()\n",
        "\n",
        "## fill in two lines below\n",
        "\n",
        "\n",
        "print(\"time for fib recursive:\",end-start)"
      ]
    },
    {
      "cell_type": "markdown",
      "metadata": {
        "id": "n_4-OF6K1ibM"
      },
      "source": [
        "search in list"
      ]
    },
    {
      "cell_type": "code",
      "execution_count": null,
      "metadata": {
        "id": "KZNiChis1ibM"
      },
      "outputs": [],
      "source": [
        "numbers = [1,3,4,7,2]\n",
        "print(3 in numbers)"
      ]
    },
    {
      "cell_type": "code",
      "execution_count": null,
      "metadata": {
        "id": "0-1R00g31ibM"
      },
      "outputs": [],
      "source": [
        "numbers = [1,3,4,7,2]\n",
        "a=3\n",
        "if a in numbers:\n",
        "    print(\"found at index:\", numbers.index(a))\n",
        "else:\n",
        "    print(\"not found\")"
      ]
    },
    {
      "cell_type": "markdown",
      "metadata": {
        "id": "6AjXJpxR1ibM"
      },
      "source": [
        "Sort using list"
      ]
    },
    {
      "cell_type": "code",
      "execution_count": null,
      "metadata": {
        "id": "ugWkJfiI1ibM"
      },
      "outputs": [],
      "source": [
        "numbers = [1, 3, 4, 2]\n",
        "numbers.sort()   # sort in increasing order\n",
        "print(\"increasing order:\", numbers)\n",
        "\n",
        "numbers.sort(reverse = True)    # sort in descending order\n",
        "print(\"descending order:\", numbers)"
      ]
    },
    {
      "cell_type": "markdown",
      "metadata": {
        "id": "9eRHXIYp1ibN"
      },
      "source": [
        "## 4 User-Defined Functions\n",
        "\n",
        "You can create your own functions in Python, which can be named or unnamed. Unnamed functions are defined using the lambda keyword as shown in the previous example for sorting a list of tuples."
      ]
    },
    {
      "cell_type": "code",
      "execution_count": null,
      "metadata": {
        "id": "YFjI6GL71ibN"
      },
      "outputs": [],
      "source": [
        "myfunc = lambda x: 3*x**2 - 2*x + 3      # example of an unnamed quadratic function\n",
        "\n",
        "print(myfunc(2))"
      ]
    },
    {
      "cell_type": "code",
      "execution_count": null,
      "metadata": {
        "id": "DCAe2d3-1ibN"
      },
      "outputs": [],
      "source": [
        "import math\n",
        "\n",
        "# The following function will discard missing values from a list\n",
        "def discard(inlist, sortFlag=False):    # default value for sortFlag is False\n",
        "    outlist = []\n",
        "    for item in inlist:\n",
        "        if not math.isnan(item):\n",
        "            outlist.append(item)\n",
        "\n",
        "    if sortFlag:\n",
        "        outlist.sort()\n",
        "    return outlist\n",
        "\n",
        "mylist = [12, math.nan, 23, -11, 45, math.nan, 71]\n",
        "\n",
        "print(discard(mylist,True))"
      ]
    },
    {
      "cell_type": "markdown",
      "metadata": {
        "id": "nF2RsU7r1ibN"
      },
      "source": [
        "## 5 File I/O\n",
        "\n",
        "You can read and write data from a list or other objects to a file.\n",
        "\n"
      ]
    },
    {
      "cell_type": "code",
      "execution_count": null,
      "metadata": {
        "id": "WEUkpguy1ibO"
      },
      "outputs": [],
      "source": [
        "states = [('AZ', 'Arizona', 'Phoenix'),('CA', 'California', 'Sacramento'),\n",
        "          ('TX', 'Texas', 'Austin'), ('MN', 'Minnesota', 'St Paul')]\n",
        "\n",
        "with open('states.txt', 'w') as f:\n",
        "    f.write('\\n'.join('%s,%s,%s' % state for state in states))\n",
        "\n",
        "with open('states.txt', 'r') as f:\n",
        "    for line in f:\n",
        "        fields = line.split(sep=',')    # split each line into its respective fields\n",
        "        print('State=',fields[1],'(',fields[0],')','Capital:', fields[2])"
      ]
    },
    {
      "cell_type": "markdown",
      "metadata": {
        "id": "Ji0tPnbL1ibP"
      },
      "source": [
        "## 6 Introduction to Charts\n",
        "\n",
        "Basics of charting with Matplotlib"
      ]
    },
    {
      "cell_type": "markdown",
      "metadata": {
        "id": "oDUeUFd24JH2"
      },
      "source": [
        "### Line Chart"
      ]
    },
    {
      "cell_type": "code",
      "execution_count": null,
      "metadata": {
        "id": "S77lvoVE1ibP"
      },
      "outputs": [],
      "source": [
        "# PIL: Python Imaging Library\n",
        "from PIL import Image\n",
        "# requests: library for http operations\n",
        "import requests\n",
        "# matplotlib: imaging / visualizations library. %matplotlib inline - allows displaying the imagine inline (below the workbook cell)\n",
        "%matplotlib inline\n",
        "import matplotlib.pyplot as plt\n",
        "import numpy as np\n",
        "\n",
        "# steps taken over time (minutes)\n",
        "xcoords = np.array([0,1,2,3,4,5,6])\n",
        "ycoords = np.array([0,110,190,340,420,480,600])\n",
        "\n",
        "# Line Graph, no markers\n",
        "plt.plot(xcoords, ycoords)\n",
        "plt.show()\n"
      ]
    },
    {
      "cell_type": "code",
      "execution_count": null,
      "metadata": {
        "id": "nzEBSuiChk3-"
      },
      "outputs": [],
      "source": [
        "# Line Graph, markers\n",
        "plt.plot(xcoords, ycoords, marker='o')\n",
        "plt.show()"
      ]
    },
    {
      "cell_type": "markdown",
      "metadata": {
        "id": "AaJC4vZK4QbI"
      },
      "source": [
        "### Scatter Chart"
      ]
    },
    {
      "cell_type": "code",
      "execution_count": null,
      "metadata": {
        "id": "SvR9RzPDhuR7"
      },
      "outputs": [],
      "source": [
        "# Scatter chart\n",
        "# Or use: plt.plot(xcoords, ycoords, 'o')\n",
        "plt.scatter(xcoords, ycoords, c='blue')\n",
        "plt.show()"
      ]
    },
    {
      "cell_type": "code",
      "execution_count": null,
      "metadata": {
        "id": "wMo5543ZiNjH"
      },
      "outputs": [],
      "source": [
        "# Scatter chart with regression line\n",
        "# calculate (linear) regression coefficients (\"1\" is for polynomial of degree 1)\n",
        "plt.scatter(xcoords, ycoords, c='blue')\n",
        "m, c = np.polyfit(xcoords, ycoords, 1)\n",
        "\n",
        "# add chart title and axis labels\n",
        "plt.title(\"Scatter: Steps taken over time\", fontsize=\"large\", loc=\"center\", fontweight=\"normal\", fontfamily=\"sans-serif\")\n",
        "plt.xlabel(\"Time in Minutes\", loc=\"center\", fontweight=\"normal\", fontfamily=\"sans-serif\")\n",
        "plt.ylabel(\"No. of Steps\", loc=\"center\", fontweight=\"normal\", fontfamily=\"sans-serif\")\n",
        "\n",
        "# add regression line to scatterplot\n",
        "plt.plot(xcoords, m*xcoords+c, color = 'red' )\n",
        "\n",
        "# save image as a local file: ScatterPlotLine.png\n",
        "#  Save before you show because pyplot.show() closes the figure and unregisters it\n",
        "#   https://matplotlib.org/stable/api/_as_gen/matplotlib.pyplot.show.html\n",
        "\n",
        "## Replace NetIDs with your NetIDs\n",
        "plt.savefig('NetIDs_ScatterPlotLine.png')\n",
        "plt.show()\n",
        "## Submit the png file along with your completed ipynb file on D2L\n"
      ]
    },
    {
      "cell_type": "markdown",
      "metadata": {
        "id": "A_hOQHT24SYb"
      },
      "source": [
        "### Bar Chart"
      ]
    },
    {
      "cell_type": "code",
      "execution_count": null,
      "metadata": {
        "id": "Au3WMgjEYCZh"
      },
      "outputs": [],
      "source": [
        "# Bar Chart\n",
        "# NCAA Men's basketball (Pac-10) 1996-97 season summary\n",
        "# List of Tuples with: (Team, Wins, Losses, Conference Rank)\n",
        "Pac10Stats97 = [('UCLA', 15, 3, 1), ('Stanford', 12, 6, 2), ('USC', 12, 6, 2),  ('California', 12, 6, 3)\n",
        "              , ('Arizona', 11,7,5), ('Washington', 10, 8,6), ('Oregon', 8, 10, 7), ('WSU', 5, 13, 8)\n",
        "              , ('OSU', 3, 15, 9), ('ASU', 2, 16, 10)]\n",
        "\n",
        "schools = [school[0] for school in Pac10Stats97]\n",
        "wins = [school[1] for school in Pac10Stats97]\n",
        "losses = [school[2] for school in Pac10Stats97]\n",
        "\n",
        "# Turn off interactive mode (will not display chart unless explicitly asked through plt.show())\n",
        "plt.ioff()\n",
        "\n",
        "# since school names are long, use a horizontal bar\n",
        "plt.barh(schools, wins)\n",
        "\n",
        "# add chart title and axis labels\n",
        "plt.title(\"Pac10 1996-97 Season\", fontsize=\"large\", loc=\"center\", fontweight=\"normal\", fontfamily=\"sans-serif\")\n",
        "plt.ylabel(\"Member schools\", loc=\"center\", fontweight=\"normal\", fontfamily=\"sans-serif\")\n",
        "plt.xlabel(\"Wins\", loc=\"center\", fontweight=\"normal\", fontfamily=\"sans-serif\")\n",
        "plt.show()\n",
        "\n",
        "# Stacked bar (don't display but only save)\n",
        "plt.ioff()\n",
        "plt.barh(schools, wins)\n",
        "plt.barh(schools, losses, left=wins)\n",
        "stackedBar = plt.gcf()\n",
        "\n",
        "## Replace NetIDs with your NetIDs\n",
        "stackedBar.savefig('NetIDs_StackedBar1.png')\n",
        "plt.close()\n",
        "\n",
        "## Submit the png file along with your completed ipynb file on D2L\n"
      ]
    },
    {
      "cell_type": "markdown",
      "metadata": {
        "id": "wfn3HAZU1ibP"
      },
      "source": [
        "## References\n",
        "[1] https://www.tutorialspoint.com/python3/index.htm  \n",
        "[2] https://docs.python.org/3/library/stdtypes.html  \n",
        "[3] https://docs.python.org/3/tutorial/index.html  \n"
      ]
    }
  ],
  "metadata": {
    "colab": {
      "provenance": [],
      "toc_visible": true,
      "include_colab_link": true
    },
    "kernelspec": {
      "display_name": "Python 3",
      "language": "python",
      "name": "python3"
    },
    "language_info": {
      "codemirror_mode": {
        "name": "ipython",
        "version": 3
      },
      "file_extension": ".py",
      "mimetype": "text/x-python",
      "name": "python",
      "nbconvert_exporter": "python",
      "pygments_lexer": "ipython3",
      "version": "3.11.5"
    }
  },
  "nbformat": 4,
  "nbformat_minor": 0
}